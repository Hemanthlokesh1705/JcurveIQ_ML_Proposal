{
  "nbformat": 4,
  "nbformat_minor": 0,
  "metadata": {
    "colab": {
      "provenance": [],
      "gpuType": "T4"
    },
    "kernelspec": {
      "name": "python3",
      "display_name": "Python 3"
    },
    "language_info": {
      "name": "python"
    },
    "accelerator": "GPU"
  },
  "cells": [
    {
      "cell_type": "markdown",
      "source": [
        "#**Financial** QA using TF-IDF + Cosine Similarity"
      ],
      "metadata": {
        "id": "jocZme_yQ_uo"
      }
    },
    {
      "cell_type": "code",
      "source": [
        "from sklearn.feature_extraction.text import TfidfVectorizer\n",
        "from sklearn.metrics.pairwise import cosine_similarity\n",
        "\n",
        "# ----------------------------\n",
        "# 1️⃣  Dummy Financial Data\n",
        "# ----------------------------\n",
        "data = [\n",
        "    {\n",
        "        \"company\": \"Apple\",\n",
        "        \"document\": \"10-Q Q1 2024\",\n",
        "        \"paragraphs\": [\n",
        "            {\"id\": 1, \"text\": \"Revenue for Q1 2024 increased to $45B due to strong iPhone sales.\"},\n",
        "            {\"id\": 2, \"text\": \"Operating income was $15B.\"},\n",
        "            {\"id\": 3, \"text\": \"Net income increased to $12B.\"},\n",
        "            {\"id\": 4, \"text\": \"Cash flow from operations was $18B.\"},\n",
        "            {\"id\": 5, \"text\": \"Long-term debt is $10B.\"}\n",
        "        ]\n",
        "    },\n",
        "    {\n",
        "        \"company\": \"Apple\",\n",
        "        \"document\": \"10-Q Q2 2025\",\n",
        "        \"paragraphs\": [\n",
        "            {\"id\": 1, \"text\": \"Revenue for Q2 2025 increased to $50B due to strong iPhone sales.\"},\n",
        "            {\"id\": 2, \"text\": \"Operating income was $18B, showing a 10% increase from last quarter.\"},\n",
        "            {\"id\": 3, \"text\": \"Net income increased to $14B.\"},\n",
        "            {\"id\": 4, \"text\": \"Cash flow from operations was $20B.\"},\n",
        "            {\"id\": 5, \"text\": \"Long-term debt is $10B.\"}\n",
        "        ]\n",
        "    },\n",
        "    {\n",
        "        \"company\": \"Microsoft\",\n",
        "        \"document\": \"10-Q Q1 2024\",\n",
        "        \"paragraphs\": [\n",
        "            {\"id\": 1, \"text\": \"Revenue for Q1 2024 was $40B, mainly from cloud services.\"},\n",
        "            {\"id\": 2, \"text\": \"Operating income increased to $12B.\"},\n",
        "            {\"id\": 3, \"text\": \"Net income was $10B.\"},\n",
        "            {\"id\": 4, \"text\": \"Cash flow from operations was $15B.\"},\n",
        "            {\"id\": 5, \"text\": \"Long-term debt is $8B.\"}\n",
        "        ]\n",
        "    },\n",
        "    {\n",
        "        \"company\": \"Microsoft\",\n",
        "        \"document\": \"10-Q Q2 2025\",\n",
        "        \"paragraphs\": [\n",
        "            {\"id\": 1, \"text\": \"Revenue for Q2 2025 was $45B, primarily from cloud services.\"},\n",
        "            {\"id\": 2, \"text\": \"Operating income increased to $15B.\"},\n",
        "            {\"id\": 3, \"text\": \"Net income was $12B.\"},\n",
        "            {\"id\": 4, \"text\": \"Cash flow from operations was $18B.\"},\n",
        "            {\"id\": 5, \"text\": \"Long-term debt is $8B.\"}\n",
        "        ]\n",
        "    },\n",
        "    {\n",
        "        \"company\": \"Amazon\",\n",
        "        \"document\": \"10-Q Q1 2024\",\n",
        "        \"paragraphs\": [\n",
        "            {\"id\": 1, \"text\": \"Revenue for Q1 2024 reached $75B, driven by e-commerce and AWS.\"},\n",
        "            {\"id\": 2, \"text\": \"Operating income was $9B.\"},\n",
        "            {\"id\": 3, \"text\": \"Net income increased to $7B.\"},\n",
        "            {\"id\": 4, \"text\": \"Cash flow from operations was $12B.\"},\n",
        "            {\"id\": 5, \"text\": \"Long-term debt is $20B.\"}\n",
        "        ]\n",
        "    },\n",
        "    {\n",
        "        \"company\": \"Amazon\",\n",
        "        \"document\": \"10-Q Q2 2025\",\n",
        "        \"paragraphs\": [\n",
        "            {\"id\": 1, \"text\": \"Revenue for Q2 2025 was $80B, mostly from e-commerce and AWS.\"},\n",
        "            {\"id\": 2, \"text\": \"Operating income was $10B.\"},\n",
        "            {\"id\": 3, \"text\": \"Net income was $7B.\"},\n",
        "            {\"id\": 4, \"text\": \"Cash flow from operations was $15B.\"},\n",
        "            {\"id\": 5, \"text\": \"Long-term debt is $25B.\"}\n",
        "        ]\n",
        "    },\n",
        "    {\n",
        "        \"company\": \"Google\",\n",
        "        \"document\": \"10-Q Q2 2025\",\n",
        "        \"paragraphs\": [\n",
        "            {\"id\": 1, \"text\": \"Revenue for Q2 2025 increased to $65B, driven by ads and cloud services.\"},\n",
        "            {\"id\": 2, \"text\": \"Operating income was $20B.\"},\n",
        "            {\"id\": 3, \"text\": \"Net income reported as $16B.\"},\n",
        "            {\"id\": 4, \"text\": \"Cash flow from operations was $25B.\"},\n",
        "            {\"id\": 5, \"text\": \"Long-term debt is $5B.\"}\n",
        "        ]\n",
        "    }\n",
        "]\n",
        "\n",
        "\n",
        "\n",
        "\n",
        "\n",
        "\n"
      ],
      "metadata": {
        "id": "gKxJXwMsWSpv"
      },
      "execution_count": 60,
      "outputs": []
    },
    {
      "cell_type": "code",
      "source": [
        "# ----------------------------\n",
        "# Preparing paragraphs & metadata\n",
        "# ----------------------------\n",
        "paragraphs = []\n",
        "metadata = []\n",
        "\n",
        "for company_data in data:\n",
        "    company = company_data[\"company\"]\n",
        "    document = company_data[\"document\"]\n",
        "    for para in company_data[\"paragraphs\"]:\n",
        "        paragraphs.append(para[\"text\"])\n",
        "        metadata.append({\n",
        "            \"company\": company,\n",
        "            \"document\": document,\n",
        "            \"paragraph_id\": para[\"id\"]\n",
        "        })"
      ],
      "metadata": {
        "id": "3N3DgQOaXl9Q"
      },
      "execution_count": 61,
      "outputs": []
    },
    {
      "cell_type": "code",
      "source": [
        "\n",
        "# ----------------------------\n",
        "# TF-IDF Vectorization\n",
        "# ----------------------------\n",
        "vectorizer = TfidfVectorizer()\n",
        "tfidf_matrix = vectorizer.fit_transform(paragraphs)"
      ],
      "metadata": {
        "id": "vmKBQ4W3XooU"
      },
      "execution_count": 62,
      "outputs": []
    },
    {
      "cell_type": "code",
      "source": [
        "# ----------------------------\n",
        "# Search function (single confident answer)\n",
        "# ----------------------------\n",
        "def search(query, company=None):\n",
        "    query_vec = vectorizer.transform([query])\n",
        "\n",
        "    # Filter paragraphs by company\n",
        "    filtered_indices = [i for i, m in enumerate(metadata) if company is None or m['company'].lower() == company.lower()]\n",
        "\n",
        "    if not filtered_indices:\n",
        "        return \"No data available for this company.\"\n",
        "\n",
        "    filtered_tfidf = tfidf_matrix[filtered_indices]\n",
        "    similarities = cosine_similarity(query_vec, filtered_tfidf)[0]\n",
        "\n",
        "    # Pick the paragraph with highest similarity\n",
        "    best_idx_local = similarities.argmax()\n",
        "    best_idx = filtered_indices[best_idx_local]\n",
        "\n",
        "    return {\n",
        "        \"company\": metadata[best_idx][\"company\"],\n",
        "        \"document\": metadata[best_idx][\"document\"],\n",
        "        \"paragraph_id\": metadata[best_idx][\"paragraph_id\"],\n",
        "        \"text\": paragraphs[best_idx],\n",
        "        \"similarity\": similarities[best_idx_local]\n",
        "    }\n"
      ],
      "metadata": {
        "id": "wZvioTMVXwiJ"
      },
      "execution_count": 63,
      "outputs": []
    },
    {
      "cell_type": "code",
      "source": [
        "# ----------------------------\n",
        "# Example Queries\n",
        "# ----------------------------\n",
        "queries = [\n",
        "    (\"What was Apple’s revenue in Q2 2025?\", \"Apple\"),\n",
        "    (\"Tell me Microsoft’s net income.\", \"Microsoft\"),\n",
        "    (\"Cash flow of Apple?\", \"Apple\"),\n",
        "    (\"Long-term debt of Microsoft?\", \"Microsoft\")\n",
        "]\n",
        "\n",
        "for q, c in queries:\n",
        "    print(f\"\\nQuestion: {q}\")\n",
        "    ans = search(q, company=c)\n",
        "    print(f\"Company: {ans['company']}, Document: {ans['document']}, Paragraph ID: {ans['paragraph_id']}\")\n",
        "    print(f\"Answer: {ans['text']}, Similarity: {ans['similarity']:.2f}\")"
      ],
      "metadata": {
        "colab": {
          "base_uri": "https://localhost:8080/"
        },
        "id": "_NNLg5ylXzNS",
        "outputId": "39bb67b4-072d-4c8a-8e71-9521d3371fe9"
      },
      "execution_count": 64,
      "outputs": [
        {
          "output_type": "stream",
          "name": "stdout",
          "text": [
            "\n",
            "Question: What was Apple’s revenue in Q2 2025?\n",
            "Company: Apple, Document: 10-Q Q2 2025, Paragraph ID: 1\n",
            "Answer: Revenue for Q2 2025 increased to $50B due to strong iPhone sales., Similarity: 0.42\n",
            "\n",
            "Question: Tell me Microsoft’s net income.\n",
            "Company: Microsoft, Document: 10-Q Q1 2024, Paragraph ID: 3\n",
            "Answer: Net income was $10B., Similarity: 0.68\n",
            "\n",
            "Question: Cash flow of Apple?\n",
            "Company: Apple, Document: 10-Q Q1 2024, Paragraph ID: 4\n",
            "Answer: Cash flow from operations was $18B., Similarity: 0.59\n",
            "\n",
            "Question: Long-term debt of Microsoft?\n",
            "Company: Microsoft, Document: 10-Q Q1 2024, Paragraph ID: 5\n",
            "Answer: Long-term debt is $8B., Similarity: 0.71\n"
          ]
        }
      ]
    },
    {
      "cell_type": "code",
      "source": [],
      "metadata": {
        "id": "hzDzdxWDYI4g"
      },
      "execution_count": null,
      "outputs": []
    },
    {
      "cell_type": "markdown",
      "source": [
        "#Model Summary\n",
        "\n",
        "Input: User query (e.g., “What was Apple’s revenue in Q2 2025?”) and optionally a company name.\n",
        "\n",
        "Data: Structured financial paragraphs from multiple companies and years. Each paragraph is a metric statement (Revenue, Net Income, Cash Flow, Debt, etc.).\n",
        "\n",
        "Processing Steps:\n",
        "\n",
        "Filter by company: Only consider paragraphs belonging to the requested company.\n",
        "\n",
        "Vectorize text: Use TF-IDF to convert all paragraphs and the query into numeric vectors.\n",
        "\n",
        "Compute similarity: Use cosine similarity to compare the query with all filtered paragraphs.\n",
        "\n",
        "Select answer: Return the paragraph with the highest similarity score as the single confident answer.\n",
        "\n",
        "Output: Most relevant paragraph with similarity score."
      ],
      "metadata": {
        "id": "SCA41X-nYKZ4"
      }
    },
    {
      "cell_type": "markdown",
      "source": [
        "#ADVANTAGES\n",
        "1.Simple and lightweight: No heavy embeddings or deep learning needed.\n",
        "\n",
        "2.Easy implementation: Can be built with Python and scikit-learn.\n",
        "\n",
        "3.Fast for small datasets: Works well for hundreds to a few thousand paragraphs.\n",
        "\n",
        "4.Company-aware: Filtering prevents mixing answers across companies.\n",
        "\n",
        "5.Interpretable: You can see why a paragraph was chosen (highest similarity).\n",
        "\n",
        "6.Deterministic: Same query always returns the same answer."
      ],
      "metadata": {
        "id": "v3cPo0jgYWQW"
      }
    },
    {
      "cell_type": "markdown",
      "source": [
        "#DRAWBACKS\n",
        "- Poor semantic understanding: Only matches exact words, not meaning.\n",
        "\n",
        "- Scales poorly: Slow for very large datasets.\n",
        "\n",
        "- No context across paragraphs: Cannot reason over multiple statements.\n",
        "\n",
        "- Sensitive to wording: Small changes in query can affect results.\n",
        "\n",
        "- Static answers: Cannot handle new companies or unseen metrics."
      ],
      "metadata": {
        "id": "clan8BgrYqSY"
      }
    }
  ]
}